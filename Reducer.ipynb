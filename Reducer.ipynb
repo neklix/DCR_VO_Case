{
 "cells": [
  {
   "cell_type": "code",
   "execution_count": 136,
   "metadata": {},
   "outputs": [],
   "source": [
    "def delete_punc(s):\n",
    "    regex = re.compile('[%s]' % re.escape(string.punctuation))\n",
    "    return regex.sub('', s)"
   ]
  },
  {
   "cell_type": "code",
   "execution_count": 137,
   "metadata": {},
   "outputs": [],
   "source": [
    "def to_normal(input_data):\n",
    "    import pymorphy2\n",
    "    morph = pymorphy2.MorphAnalyzer()\n",
    "    result = pd.DataFrame(columns=['Raw', 'Normalized', 'Tags'])\n",
    "    input_data = input_data.split()\n",
    "    for i in input_data:\n",
    "        parsed = morph.parse(i)\n",
    "        result = result.append({'Raw' : i, 'Normalized' : parsed[0].normal_form, 'Tags' : parsed[0].tag}, ignore_index=True)\n",
    "    return result"
   ]
  },
  {
   "cell_type": "code",
   "execution_count": 138,
   "metadata": {},
   "outputs": [],
   "source": [
    "def get_lines(body_task):\n",
    "    fileObj = body_task\n",
    "    result = []\n",
    "    for line in fileObj.split('\\n'):\n",
    "        result.append(line)\n",
    "    return result"
   ]
  },
  {
   "cell_type": "code",
   "execution_count": 139,
   "metadata": {},
   "outputs": [],
   "source": [
    "# удаление специальных символов из начала и конца\n",
    "\n",
    "def get_normal_form_of_prefix_line(lines):\n",
    "    special_symb = '!@#$%^&*\"\":* \\t'\n",
    "    result = []\n",
    "    for line in lines:\n",
    "        uk = 0;\n",
    "        for c in line:\n",
    "            if (c in special_symb):\n",
    "                uk += 1\n",
    "            else:\n",
    "                break\n",
    "        while (len(line) > 0 and line[-1] in special_symb):\n",
    "            line = line[:len(line) - 1]\n",
    "        if (uk != len(line)):\n",
    "            result.append(line[uk:])\n",
    "    return result\n"
   ]
  },
  {
   "cell_type": "code",
   "execution_count": 140,
   "metadata": {},
   "outputs": [],
   "source": [
    "import datetime\n",
    "\n",
    "def check_is_date(string):  # xx.xx.xxxx считаем что даты полные, потом можно допилить\n",
    "    mn_arr = [31, 28, 31, 30, 31, 30, 31, 31, 30, 31, 30, 31]\n",
    "    digits = '0123456789'\n",
    "    count = 0\n",
    "    for i in range(len(string)):\n",
    "        if (i == 2 or i == 5):\n",
    "            if (string[i] == '.' or string[i] == '/' or string[i] == '\\\\' or string[i] == '-'):\n",
    "                count += 1\n",
    "        else:\n",
    "            if (digits.find(string[i]) != -1):\n",
    "                count += 1\n",
    "    if (count != len(string)):\n",
    "        return False\n",
    "    s = string\n",
    "    day = int(s[0] + s[1])\n",
    "    month = int(s[3] + s[4])\n",
    "    year = int(s[6] + s[7] + s[8] + s[9])\n",
    "    if (year < 2019):\n",
    "        return False\n",
    "    if (year > 2099):\n",
    "        return False\n",
    "    if (month > 12):\n",
    "        return False\n",
    "    if (month != 2):\n",
    "        if (mn_arr[month - 1] < day):\n",
    "            return False\n",
    "        else:\n",
    "            return True\n",
    "    if (month == 2):\n",
    "        if (year % 4 == 0):\n",
    "            if (mn_arr[month - 1] + 1 < day):\n",
    "                return False\n",
    "            else:\n",
    "                return True\n",
    "        else:\n",
    "            if (mn_arr[month - 1] < day):\n",
    "                return False\n",
    "            else:\n",
    "                return True\n",
    "    return False;\n",
    "    \n",
    "    \n",
    "    "
   ]
  },
  {
   "cell_type": "code",
   "execution_count": 141,
   "metadata": {},
   "outputs": [],
   "source": [
    "def less_date(a, b): # true if a <= b\n",
    "    day_a = int(a[0] + a[1])\n",
    "    month_a = int(a[3] + a[4])\n",
    "    year_a = int(a[6] + a[7] + a[8] + a[9])\n",
    "    \n",
    "    day_b = int(b[0] + b[1])\n",
    "    month_b = int(b[3] + b[4])\n",
    "    year_b = int(b[6] + b[7] + b[8] + b[9])\n",
    "    if (year_a < year_b):\n",
    "        return True\n",
    "    if (year_a > year_b):\n",
    "        return False\n",
    "    if (month_a < month_b):\n",
    "        return True\n",
    "    if (month_a > month_b):\n",
    "        return False\n",
    "    return a <= b;"
   ]
  },
  {
   "cell_type": "code",
   "execution_count": 142,
   "metadata": {},
   "outputs": [],
   "source": [
    "def get_tasks(words_example, lines):\n",
    "    words = words_example\n",
    "    words.append(\":\")\n",
    "    digits = '0123456789'\n",
    "    word_of_theme = ['Приказ', 'приказ', 'заявление', 'Заявление', 'уведомление', 'Уведомление', 'Напоминание', 'напоминание']\n",
    "    theme = '';\n",
    "    date = '00.00.0000'\n",
    "    next_line = False\n",
    "    tasks = []\n",
    "    for line in lines:\n",
    "        for word in word_of_theme:\n",
    "                if (line.find(word) != -1 and theme == ''):\n",
    "                    theme = word\n",
    "        if (next_line):\n",
    "            tasks.append(line)\n",
    "            next_line = False\n",
    "            continue\n",
    "        if (len(line) > 3):\n",
    "            if ((line[0] in digits) and ((line[1] == '.') or (line[1] == ')'))):\n",
    "                tasks.append(line)\n",
    "            elif ((line[0] in digits) and (line[1] in digits) and ((line[2] == '.') or (line[2] == ')'))):\n",
    "                tasks.append(line)\n",
    "            else:\n",
    "                min_index = len(line)\n",
    "                max_index = -1\n",
    "                for word in words:\n",
    "                    if (line.find(word) != -1):\n",
    "                        index = line.find(word)\n",
    "                        if (min_index > index):\n",
    "                            max_index = index + len(word)\n",
    "                            min_index = index\n",
    "                if (max_index == -1):\n",
    "                    continue\n",
    "                if (max_index + 5 > len(line)):\n",
    "                    next_line = True\n",
    "                else:\n",
    "                    tasks.append(line[min_index:])\n",
    "    #if (theme != ''):\n",
    "    #    tasks.insert(0, theme) тут могда быть ваша тема\n",
    "    return tasks"
   ]
  },
  {
   "cell_type": "code",
   "execution_count": 143,
   "metadata": {},
   "outputs": [],
   "source": [
    "def get_date(lines):\n",
    "    date = '00.00.0000'\n",
    "    for line in lines:\n",
    "        for i in range(0, len(line) - 9):\n",
    "            if (check_is_date(line[i : i + 10])):\n",
    "                if (less_date(date, line[i : i + 10])):\n",
    "                    date = line[i : i + 10]\n",
    "    return date"
   ]
  },
  {
   "cell_type": "code",
   "execution_count": 144,
   "metadata": {},
   "outputs": [],
   "source": [
    "def main():\n",
    "    global re\n",
    "    global string\n",
    "    global codecs\n",
    "    global pd\n",
    "    import re\n",
    "    import string\n",
    "    import codecs\n",
    "    import pandas as pd\n",
    "    body_task = 'приказ сделать \\n \\n 1) flex \\n 2) kek \\n 3) dura_lex_sed_lex \\n \\n \\n 01/01/2020'\n",
    "    input_data = body_task\n",
    "    input_data = delete_punc(input_data)\n",
    "    normalized = to_normal(input_data)\n",
    "    \n",
    "    infinities = []\n",
    "    for i in normalized.index:\n",
    "        if ('INFN' in normalized.loc[i, 'Tags']) or ('impr' in normalized.loc[i, 'Tags']):\n",
    "            infinities.append(normalized.loc[i, 'Raw'])\n",
    "            \n",
    "    lines = get_lines(body_task)\n",
    "    lines = get_normal_form_of_prefix_line(lines)\n",
    "    tasks = get_tasks(infinities, lines)\n",
    "    deadline = get_date(lines)\n",
    "    return (tasks, deadline)"
   ]
  },
  {
   "cell_type": "code",
   "execution_count": 145,
   "metadata": {},
   "outputs": [
    {
     "data": {
      "text/plain": [
       "(['', '1) flex', '2) kek', '3) dura_lex_sed_lex'], '01/01/2020')"
      ]
     },
     "execution_count": 145,
     "metadata": {},
     "output_type": "execute_result"
    }
   ],
   "source": [
    "main()"
   ]
  },
  {
   "cell_type": "code",
   "execution_count": 126,
   "metadata": {},
   "outputs": [
    {
     "name": "stdout",
     "output_type": "stream",
     "text": [
      "\n",
      "1) flex\n",
      "2) kek\n",
      "3) dura_lex_sed_lex\n",
      "01/01/2020\n"
     ]
    }
   ],
   "source": []
  },
  {
   "cell_type": "code",
   "execution_count": 96,
   "metadata": {},
   "outputs": [
    {
     "data": {
      "text/plain": [
       "True"
      ]
     },
     "execution_count": 96,
     "metadata": {},
     "output_type": "execute_result"
    }
   ],
   "source": []
  },
  {
   "cell_type": "code",
   "execution_count": null,
   "metadata": {},
   "outputs": [],
   "source": []
  }
 ],
 "metadata": {
  "kernelspec": {
   "display_name": "Python 3",
   "language": "python",
   "name": "python3"
  },
  "language_info": {
   "codemirror_mode": {
    "name": "ipython",
    "version": 3
   },
   "file_extension": ".py",
   "mimetype": "text/x-python",
   "name": "python",
   "nbconvert_exporter": "python",
   "pygments_lexer": "ipython3",
   "version": "3.7.6"
  }
 },
 "nbformat": 4,
 "nbformat_minor": 4
}
